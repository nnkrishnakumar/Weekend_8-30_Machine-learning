{
 "cells": [
  {
   "cell_type": "markdown",
   "id": "8ebb973d-d2b5-4e0a-bf04-5aea003866aa",
   "metadata": {},
   "source": [
    "machine learning: \n",
    "    \n",
    "    >Computer Vision \n",
    "    \n",
    "    >NLP(Natural Language Process)\n",
    "    "
   ]
  },
  {
   "cell_type": "markdown",
   "id": "7a96d6c3-a33c-48ed-8d18-2c7480d9a94d",
   "metadata": {},
   "source": [
    "# Computer Vision"
   ]
  },
  {
   "cell_type": "code",
   "execution_count": 1,
   "id": "acf20717-e8fe-4891-9c37-fbb1682ac010",
   "metadata": {},
   "outputs": [],
   "source": [
    "# machine Learning tool for computer vision is OpenCv(open source)"
   ]
  },
  {
   "cell_type": "markdown",
   "id": "1b927e23-82ee-4bc4-b637-a76a3c1994d5",
   "metadata": {},
   "source": [
    "# pip install opencv-python"
   ]
  },
  {
   "cell_type": "code",
   "execution_count": 3,
   "id": "3b8ff78a-7b8d-43aa-8d5d-beded141d2d6",
   "metadata": {},
   "outputs": [],
   "source": [
    "import cv2"
   ]
  },
  {
   "cell_type": "code",
   "execution_count": 12,
   "id": "fb23b186-687a-4274-acb5-bf287998a36a",
   "metadata": {},
   "outputs": [
    {
     "name": "stdout",
     "output_type": "stream",
     "text": [
      "3 [107 119 124]\n"
     ]
    }
   ],
   "source": [
    "img=cv2.imread(\"C:\\\\Users\\Ducat\\Desktop\\AI_batch\\sachin-tendulkar.webp\")\n",
    "print(len(img[0][0]),img[0][0])\n",
    "cv2.imshow('Sachine',img)\n",
    "cv2.waitKey()\n",
    "cv2.destroyAllWindows()"
   ]
  },
  {
   "cell_type": "code",
   "execution_count": 19,
   "id": "51f12016-5c3e-40b8-b366-74de62ea54e8",
   "metadata": {},
   "outputs": [
    {
     "name": "stdout",
     "output_type": "stream",
     "text": [
      "[119 119 119 119 119 119 119 119 119 119 119 119 119 119 119 119 119 119\n",
      " 119 119 119 119 119 119 119 119 119 119 119 119 119 119 119 119 119 119\n",
      " 119 119 119 119 119 119 119 119 119 119 119 119 119 119 119 119 119 119\n",
      " 119 119 119 119 119 119 119 119 119 119 119 119 119 119 119 119 119 119\n",
      " 119 119 119 119 119 119 119 119 119 119 119 120 120 119 114 110 124 124\n",
      " 122 120 119 117 115 115 117 117 117 117 118 118 118 115 114 118 120 121\n",
      " 121 124 122 122 121 121 120 120 119 119 119 119 119 119 119 119 119 119\n",
      " 119 119 119 119 119 119 119 119 119 119 119 119 119 119 119 119 119 119\n",
      " 120 120 120 120 120 120 120 120 120 120 120 120 120 120 120 120 119 119\n",
      " 119 119 119 119 119 119 119 119 119 119 119 119 119 119 118 118 118 118\n",
      " 118 118 118 118 118 118 118 118 118 118 118 118] 192\n"
     ]
    }
   ],
   "source": [
    "img=cv2.imread(\"C:\\\\Users\\Ducat\\Desktop\\AI_batch\\sachin-tendulkar.webp\")\n",
    "img=cv2.cvtColor(img,cv2.COLOR_BGR2GRAY)\n",
    "print(img[0],len(img[0]))\n",
    "cv2.imshow('Sachine',img)\n",
    "cv2.waitKey(5000)\n",
    "cv2.destroyAllWindows()"
   ]
  },
  {
   "cell_type": "code",
   "execution_count": 20,
   "id": "63dd2c48-430d-4fc4-8101-5995dd5f5c67",
   "metadata": {},
   "outputs": [
    {
     "name": "stdout",
     "output_type": "stream",
     "text": [
      "[119 119 119 119 119 119 119 119 119 119 119 119 119 119 119 119 119 119\n",
      " 119 119 119 119 119 119 119 119 119 119 119 119 119 119 119 119 119 119\n",
      " 119 119 119 119 119 119 119 119 119 119 119 119 119 119 119 119 119 119\n",
      " 119 119 119 119 119 119 119 119 119 119 119 119 119 119 119 119 119 119\n",
      " 119 119 119 119 119 119 119 119 119 119 119 120 120 119 114 110 124 124\n",
      " 122 120 119 117 115 115 117 117 117 117 118 118 118 115 114 118 120 121\n",
      " 121 124 122 122 121 121 120 120 119 119 119 119 119 119 119 119 119 119\n",
      " 119 119 119 119 119 119 119 119 119 119 119 119 119 119 119 119 119 119\n",
      " 120 120 120 120 120 120 120 120 120 120 120 120 120 120 120 120 119 119\n",
      " 119 119 119 119 119 119 119 119 119 119 119 119 119 119 118 118 118 118\n",
      " 118 118 118 118 118 118 118 118 118 118 118 118] 192\n"
     ]
    }
   ],
   "source": [
    "img=cv2.imread(\"C:\\\\Users\\Ducat\\Desktop\\AI_batch\\sachin-tendulkar.webp\")\n",
    "img=cv2.cvtColor(img,cv2.COLOR_BGR2GRAY)\n",
    "print(img[0],len(img[0]))\n",
    "cv2.imshow('Sachine',img)\n",
    "cv2.waitKey(5000)\n",
    "cv2.destroyAllWindows()"
   ]
  },
  {
   "cell_type": "code",
   "execution_count": 36,
   "id": "f0ba3830-12aa-49ef-a543-7a25c3ba2e45",
   "metadata": {},
   "outputs": [],
   "source": [
    "img=cv2.imread(\"C:\\\\Users\\Ducat\\Desktop\\AI_batch\\sachin-tendulkar.webp\")\n",
    "img=cv2.blur(img,(1,30))\n",
    "\n",
    "cv2.imshow('Sachine',img)\n",
    "\n",
    "cv2.waitKey(5000)\n",
    "cv2.destroyAllWindows()"
   ]
  },
  {
   "cell_type": "code",
   "execution_count": 40,
   "id": "f6dd068d-1ca8-4872-a47f-03a1f189db1e",
   "metadata": {},
   "outputs": [],
   "source": [
    "img=cv2.imread(\"C:\\\\Users\\Ducat\\Desktop\\AI_batch\\sachin-tendulkar.webp\")\n",
    "\n",
    "img=cv2.resize(img,(400,200))\n",
    "cv2.imshow('Sachine',img)\n",
    "\n",
    "cv2.waitKey(5000)\n",
    "cv2.destroyAllWindows()"
   ]
  },
  {
   "cell_type": "code",
   "execution_count": 43,
   "id": "be52494c-ec72-4861-9ea1-95d254e59400",
   "metadata": {},
   "outputs": [],
   "source": [
    "img=cv2.imread(\"C:\\\\Users\\Ducat\\Desktop\\AI_batch\\sachin-tendulkar.webp\")\n",
    "\n",
    "img=cv2.flip(img,-1,-1)\n",
    "cv2.imshow('Sachine',img)\n",
    "\n",
    "cv2.waitKey(5000)\n",
    "cv2.destroyAllWindows()"
   ]
  },
  {
   "cell_type": "code",
   "execution_count": null,
   "id": "bc852f6e-40de-4890-9a2f-39bb57f9f44a",
   "metadata": {},
   "outputs": [],
   "source": []
  }
 ],
 "metadata": {
  "kernelspec": {
   "display_name": "Python 3 (ipykernel)",
   "language": "python",
   "name": "python3"
  },
  "language_info": {
   "codemirror_mode": {
    "name": "ipython",
    "version": 3
   },
   "file_extension": ".py",
   "mimetype": "text/x-python",
   "name": "python",
   "nbconvert_exporter": "python",
   "pygments_lexer": "ipython3",
   "version": "3.9.12"
  }
 },
 "nbformat": 4,
 "nbformat_minor": 5
}
